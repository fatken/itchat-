{
 "cells": [
  {
   "cell_type": "code",
   "execution_count": null,
   "metadata": {},
   "outputs": [],
   "source": [
    "import itchat\n",
    "import matplotlib.pyplot as plt\n",
    "import numpy as np\n",
    "import pandas as pd\n",
    "import jieba\n",
    "import re\n",
    "from wordcloud import WordCloud, ImageColorGenerator\n",
    "import PIL.Image as Image\n",
    "%matplotlib inline\n",
    "# -*- coding:utf-8 -*-"
   ]
  },
  {
   "cell_type": "code",
   "execution_count": null,
   "metadata": {},
   "outputs": [],
   "source": [
    "# font setup\n",
    "from matplotlib import font_manager\n",
    "fontP = font_manager.FontProperties(fname = '/Library/Fonts/SimHei.ttf')\n",
    "#fontP.set_family()\n",
    "#fontP.set_size(14)\n",
    "#plt.legend(prop=fontP)\n",
    "#plt.show()\n",
    "\n",
    "#ChineseFont1 = FontProperties(fname = '/Library/Fonts/SimHei.ttf')"
   ]
  },
  {
   "cell_type": "code",
   "execution_count": null,
   "metadata": {},
   "outputs": [],
   "source": [
    "#login callback and exit callback\n",
    "def lc():\n",
    "    print(\"login succeed!\")\n",
    "\n",
    "def ec():\n",
    "    print(\"logout succeed!\")"
   ]
  },
  {
   "cell_type": "code",
   "execution_count": null,
   "metadata": {
    "scrolled": true
   },
   "outputs": [],
   "source": [
    "#login with QR code scan\n",
    "itchat.auto_login()"
   ]
  },
  {
   "cell_type": "code",
   "execution_count": null,
   "metadata": {
    "scrolled": false
   },
   "outputs": [],
   "source": [
    "# desplaying QR code in the command prompt\n",
    "#itchat.auto_login(enableCmdQR=-2, hotReload=True, loginCallback=lc, exitCallback=ec)"
   ]
  },
  {
   "cell_type": "code",
   "execution_count": null,
   "metadata": {},
   "outputs": [],
   "source": [
    "#sending message to filehelper\n",
    "itchat.send(\"test\", toUserName='filehelper')"
   ]
  },
  {
   "cell_type": "code",
   "execution_count": null,
   "metadata": {},
   "outputs": [],
   "source": [
    "#setup auto reply to all new messages\n",
    "#@itchat.msg_register(itchat.content.TEXT)\n",
    "#def text_reply(msg):\n",
    "#    return (\"auto reply\")#msg['Text']\n",
    "\n",
    "#itchat.auto_login()\n",
    "#itchat.run()"
   ]
  },
  {
   "cell_type": "code",
   "execution_count": null,
   "metadata": {},
   "outputs": [],
   "source": [
    "friends = itchat.get_friends(update=True)"
   ]
  },
  {
   "cell_type": "markdown",
   "metadata": {},
   "source": [
    "### sex ratio of your friends"
   ]
  },
  {
   "cell_type": "code",
   "execution_count": null,
   "metadata": {},
   "outputs": [],
   "source": [
    "#male = 1\n",
    "#female = 2\n",
    "total = len(friends) - 1\n",
    "\n",
    "male = female = other = 0\n",
    "for i in friends[1:]:\n",
    "    if i[\"Sex\"] == 1:\n",
    "        male +=1\n",
    "    elif i[\"Sex\"] == 2:\n",
    "        female += 1\n",
    "    else:\n",
    "        other += 1\n",
    "print(\"male: \" + str(male/total) + \" \" + str(male) + \"\\nfemale:\" + str(female/total) + \" \" + str(female) + \"\\nother: \" + str(other/total) + \" \" + str(other))\n",
    "genres = (\"male\", \"female\", \"other\")\n",
    "genderNumbers = [male, female, other]\n",
    "\n",
    "bar_width = 0.5\n",
    "index = np.array([1, 2, 3])\n",
    "plt.bar(index, genderNumbers, width=bar_width)\n",
    "plt.xticks(index + bar_width / 2, genres)\n"
   ]
  },
  {
   "cell_type": "markdown",
   "metadata": {},
   "source": [
    "### Demographics"
   ]
  },
  {
   "cell_type": "code",
   "execution_count": null,
   "metadata": {},
   "outputs": [],
   "source": [
    "#define getVar()\n",
    "def getVar(var):\n",
    "    variables = []\n",
    "    for i in friends:\n",
    "        variables.append(i[var])\n",
    "    return(variables)\n",
    "nickName = getVar(\"NickName\")\n",
    "signature = getVar(\"Signature\")\n",
    "province = getVar(\"Province\")\n",
    "city = getVar(\"City\")\n",
    "sex = getVar(\"Sex\")\n",
    "data = {\"nickName\":nickName, \"sex\": sex, \"signature\":signature, \"province\":province, \"city\": city}\n",
    "df = pd.DataFrame(data)\n",
    "df = df[[\"nickName\", \"sex\", \"province\", \"city\", \"signature\"]]"
   ]
  },
  {
   "cell_type": "code",
   "execution_count": null,
   "metadata": {},
   "outputs": [],
   "source": [
    "demographics = df.groupby(['province', \"city\"]).size().sort_values(ascending = False)\n",
    "demographicsCity = df.groupby([\"city\"]).size().sort_values(ascending = False)\n",
    "demographicsProvince = df.groupby(['province']).size().sort_values(ascending = False)\n",
    "\n",
    "df.province.unique()"
   ]
  },
  {
   "cell_type": "code",
   "execution_count": null,
   "metadata": {},
   "outputs": [],
   "source": [
    "demographicsCity"
   ]
  },
  {
   "cell_type": "markdown",
   "metadata": {},
   "source": [
    "### 云词图 "
   ]
  },
  {
   "cell_type": "code",
   "execution_count": null,
   "metadata": {},
   "outputs": [],
   "source": [
    "#first  filter out emojis and special caracters\n",
    "\n",
    "siglist = []\n",
    "for i in friends:\n",
    "    signature = i[\"Signature\"].strip().replace(\"span\", \"\").replace(\"class\", \"\").replace(\"emoji\", \"\")\n",
    "    rep = re.compile(\"1f\\d+\\w*|[<>/=]\")\n",
    "    signature = rep.sub(\"\", signature)\n",
    "    siglist.append(signature)\n",
    "text = \"\".join(siglist)\n",
    "#text"
   ]
  },
  {
   "cell_type": "code",
   "execution_count": null,
   "metadata": {},
   "outputs": [],
   "source": [
    "wordlist = jieba.cut(text, cut_all = True)\n",
    "word_space_split=\" \".join(wordlist)\n",
    "\n",
    "#seg_list = jieba.cut(\"他来到了网易杭研大厦\")  # 默认是精确模式\n",
    "#print(\", \".join(seg_list))"
   ]
  },
  {
   "cell_type": "code",
   "execution_count": null,
   "metadata": {},
   "outputs": [],
   "source": [
    "im = np.array(Image.open('pic.png'))"
   ]
  },
  {
   "cell_type": "code",
   "execution_count": null,
   "metadata": {},
   "outputs": [],
   "source": [
    "#coloring = np.array(Image.open(\"vap.png\"))\n",
    "coloring = im\n",
    "wordCloud = WordCloud(background_color=\"white\", max_words = 2000, mask=coloring, max_font_size=60, random_state=42, scale=2, font_path = \"/Library/Fonts/SimHei.ttf\").generate(word_space_split)\n",
    "\n",
    "image_colors=ImageColorGenerator(coloring)\n",
    "plt.figure(figsize=(10, 10))\n",
    "plt.imshow(wordCloud.recolor(color_func=image_colors))\n",
    "plt.imshow(wordCloud)\n",
    "plt.axis(\"off\")\n",
    "plt.show()"
   ]
  },
  {
   "cell_type": "code",
   "execution_count": null,
   "metadata": {},
   "outputs": [],
   "source": [
    "# send pic to friends\n",
    "itchat.send(\"hahaha\", toUserName='filehelper')\n",
    "itchat.send_image(\"wordcloud.png\", toUserName=\"filehelper\")"
   ]
  },
  {
   "cell_type": "code",
   "execution_count": null,
   "metadata": {},
   "outputs": [],
   "source": [
    "itchat.send(\"@img@%s\" % \"wordcloud.png\", \"[WECHATID]\")\n",
    "itchat.send(\"@img@%s\" % \"wordcloud.png\", \"[WECHATID]\")"
   ]
  },
  {
   "cell_type": "code",
   "execution_count": null,
   "metadata": {},
   "outputs": [],
   "source": [
    "itchat.logout()"
   ]
  }
 ],
 "metadata": {
  "kernelspec": {
   "display_name": "Python 3",
   "language": "python",
   "name": "python3"
  },
  "language_info": {
   "codemirror_mode": {
    "name": "ipython",
    "version": 3
   },
   "file_extension": ".py",
   "mimetype": "text/x-python",
   "name": "python",
   "nbconvert_exporter": "python",
   "pygments_lexer": "ipython3",
   "version": "3.6.4"
  }
 },
 "nbformat": 4,
 "nbformat_minor": 2
}
